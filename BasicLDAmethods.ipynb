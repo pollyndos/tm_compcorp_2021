{
 "cells": [
  {
   "cell_type": "markdown",
   "metadata": {},
   "source": [
    "#### Материал для экспериментов"
   ]
  },
  {
   "cell_type": "code",
   "execution_count": null,
   "metadata": {},
   "outputs": [],
   "source": [
    "import pandas as pd\n",
    "\n",
    "df = pd.read_csv(\"wiki_prep2.csv\")\n",
    "corpus = df[['en', 'ru']]\n",
    "corpus.head()"
   ]
  },
  {
   "cell_type": "markdown",
   "metadata": {},
   "source": [
    "## Стандартная модель LDA на отдельных подкорпусах\n",
    "1. Выбор количества тем (сранивнить связность тем для каждого подкорпуса)\n",
    "2. Построение моделей для отдельных языков\n",
    "3. Сравнить полученные темы"
   ]
  },
  {
   "cell_type": "code",
   "execution_count": null,
   "metadata": {},
   "outputs": [],
   "source": [
    "import pandas as pd\n",
    "\n",
    "# ff = pd.read_csv(\"eng2.csv\")\n",
    "stop_en = ['also', 'centuri', 'year', 'new', 'one', 'first', 'two']\n",
    "stop_ru = []\n",
    "data_en = [[x for x in str(s).split() if len(x) > 2 and x not in stop_en] for s in corpus.en]\n",
    "# data_en = [x.\n",
    "data_ru = [[x for x in str(s).split() if len(x) > 2 and x not in stop_ru] for s in corpus.ru]\n",
    "print(len(data_en), len(data_ru))"
   ]
  },
  {
   "cell_type": "code",
   "execution_count": null,
   "metadata": {
    "scrolled": true
   },
   "outputs": [],
   "source": [
    "df = pd.read_csv(\"c:\\asus\\desktop\\wiki_prep2.csv\")\n",
    "stop_en = ['also', 'century', 'year', 'new', 'one', 'first', 'two']\n",
    "stop_ru = 'первый два один век'.split()\n",
    "data_en = [[x for x in str(s).split() if len(x) > 2 and x not in stop_en] for s in corpus.en]\n",
    "data_ru = [[x for x in str(s).split() if len(x) > 2 and x not in stop_ru] for s in corpus.ru]"
   ]
  },
  {
   "cell_type": "code",
   "execution_count": null,
   "metadata": {},
   "outputs": [],
   "source": [
    "from gensim import corpora, models\n",
    "from gensim.models import LdaModel, LdaMulticore\n",
    "from gensim.models.coherencemodel import CoherenceModel\n",
    "from gensim.corpora import Dictionary\n",
    "\n",
    "import matplotlib.pyplot as plt"
   ]
  },
  {
   "cell_type": "code",
   "execution_count": null,
   "metadata": {},
   "outputs": [],
   "source": [
    "def compute_coherence_values(dictionary, corpus, texts, limit, start=2, step=1):\n",
    "\n",
    "    \"\"\"\n",
    "   dictionary : Gensim dictionary\n",
    "   corpus : Gensim corpus\n",
    "   texts : Our corpus\n",
    "   limit : Maximum number of topics\n",
    "   model_list : The list of LDA models\n",
    "   coherence_values : Coherencies corresponding to LDA model\n",
    "    \"\"\"\n",
    "\n",
    "    coherence_values = []\n",
    "    model_list = []\n",
    "    for num_topics in range(start, limit, step):\n",
    "        print(num_topics)\n",
    "        model = LdaModel(corpus=corpus, id2word=dictionary, num_topics=num_topics)\n",
    "        model_list.append(model)\n",
    "        coherencemodel = CoherenceModel(model=model, texts=texts, dictionary=dictionary, coherence='c_v', window_size=300)\n",
    "        coherence_values.append(coherencemodel.get_coherence())\n",
    "    return model_list, coherence_values"
   ]
  },
  {
   "cell_type": "markdown",
   "metadata": {},
   "source": [
    "#### Подкорпус текстов на английском языке"
   ]
  },
  {
   "cell_type": "code",
   "execution_count": null,
   "metadata": {},
   "outputs": [],
   "source": [
    "def prep_data(texts, no_below=15, no_above=0.90):\n",
    "    dictionary = Dictionary(texts)\n",
    "    dictionary.filter_extremes(no_below=no_below, no_above=no_above)\n",
    "\n",
    "    corpus = [dictionary.doc2bow(doc) for doc in texts]\n",
    "    tfidf = models.TfidfModel(corpus)\n",
    "    corpus_tfidf = tfidf[corpus]\n",
    "    print(f'Число уникальных токенов (dictionary): {len(dictionary)}')\n",
    "    print(f'Число докуменов (corpora): {len(corpus)}')\n",
    "\n",
    "    return dictionary, corpus, corpus_tfidf"
   ]
  },
  {
   "cell_type": "code",
   "execution_count": null,
   "metadata": {},
   "outputs": [],
   "source": [
    "dictionary_en, corpus_en, corpus_tfidf_en = prep_data(data_en)"
   ]
  },
  {
   "cell_type": "code",
   "execution_count": null,
   "metadata": {},
   "outputs": [],
   "source": [
    "# Recall the function\n",
    "model_list_en, coherence_values_en = compute_coherence_values(dictionary=dictionary_en, corpus=corpus_tfidf_en,texts=data_en, start=5, \\\n",
    "                                                        limit=25, step=1)"
   ]
  },
  {
   "cell_type": "code",
   "execution_count": null,
   "metadata": {
    "scrolled": false
   },
   "outputs": [],
   "source": [
    "\n",
    "limit=25; start=5; step=1;\n",
    "x = range(start, limit, step)\n",
    "plt.plot(x, coherence_values_en)\n",
    "plt.xlabel(\"Количество тем\")\n",
    "plt.ylabel(\"Согласованность\")\n",
    "plt.legend((\"coherence_values\"), loc='best')\n",
    "plt.suptitle(\"Качество модели LDA на английском подкорпусе\")\n",
    "plt.show()"
   ]
  },
  {
   "cell_type": "code",
   "execution_count": null,
   "metadata": {},
   "outputs": [],
   "source": [
    "lda_model_en = models.LdaModel(corpus=corpus_tfidf_en,\n",
    "                               id2word=dictionary_en,\n",
    "                               num_topics=15)\n",
    "\n",
    "lda_model_en.print_topics(num_topics=-1, num_words=17)"
   ]
  },
  {
   "cell_type": "code",
   "execution_count": null,
   "metadata": {},
   "outputs": [],
   "source": [
    "my_dict_en = {'Topic_' + str(i): [token for token, score in lda_model_en.show_topic(i, topn=15)] for i in range(0, lda_model_en.num_topics)}"
   ]
  },
  {
   "cell_type": "markdown",
   "metadata": {},
   "source": [
    "#### Подкорпус текстов на русском языке"
   ]
  },
  {
   "cell_type": "code",
   "execution_count": null,
   "metadata": {},
   "outputs": [],
   "source": [
    "dictionary_ru, corpus_ru, corpus_tfidf_ru = prep_data(data_ru)"
   ]
  },
  {
   "cell_type": "code",
   "execution_count": null,
   "metadata": {},
   "outputs": [],
   "source": [
    "model_list_ru, coherence_values_ru = compute_coherence_values(dictionary=dictionary_ru, corpus=corpus_ru, texts=data_ru, start=5, \\\n",
    "                                                        limit=25, step=1)"
   ]
  },
  {
   "cell_type": "code",
   "execution_count": null,
   "metadata": {},
   "outputs": [],
   "source": [
    "limit=25; start=5; step=1;\n",
    "x = range(start, limit, step)\n",
    "plt.plot(x, coherence_values_ru)\n",
    "plt.xlabel(\"Количество тем\")\n",
    "plt.ylabel(\"Согласованность\")\n",
    "plt.legend((\"coherence_values\"), loc='best')\n",
    "#plt.suptitle(\"Качество модели LDA на русском подкорпусе\")\n",
    "plt.show()"
   ]
  },
  {
   "cell_type": "code",
   "execution_count": null,
   "metadata": {},
   "outputs": [],
   "source": [
    "lda_model_ru = models.LdaModel(corpus=corpus_tfidf_ru,\n",
    "                               id2word=dictionary_ru,\n",
    "                               num_topics=15)\n",
    "\n"
   ]
  },
  {
   "cell_type": "code",
   "execution_count": null,
   "metadata": {},
   "outputs": [],
   "source": [
    "lda_model_ru.print_topics(num_topics=-1, num_words=17)"
   ]
  },
  {
   "cell_type": "code",
   "execution_count": null,
   "metadata": {},
   "outputs": [],
   "source": [
    "my_dict_ru = {'Topic_' + str(i): [token for token, score in lda_model_ru.show_topic(i, topn=15)] for i in range(0, lda_model_ru.num_topics)}"
   ]
  },
  {
   "cell_type": "code",
   "execution_count": null,
   "metadata": {},
   "outputs": [],
   "source": [
    "my_dict_ru\n"
   ]
  },
  {
   "cell_type": "markdown",
   "metadata": {},
   "source": [
    "## Стандартная модель LDA для общего корпуса"
   ]
  },
  {
   "cell_type": "code",
   "execution_count": null,
   "metadata": {},
   "outputs": [],
   "source": [
    "data_all = data_en + data_ru\n",
    "print(len(data_all))"
   ]
  },
  {
   "cell_type": "code",
   "execution_count": null,
   "metadata": {},
   "outputs": [],
   "source": [
    "# на этом этапе каждому слову дается уникальный цифровой номер\n",
    "dictionary_all, corpus_all, corpus_tfidf_all = prep_data(data_all)"
   ]
  },
  {
   "cell_type": "code",
   "execution_count": null,
   "metadata": {},
   "outputs": [],
   "source": [
    "model_list_all, coherence_values_all = compute_coherence_values(dictionary=dictionary_all, corpus=corpus_tfidf_all, texts=data_all, start=10, \\\n",
    "                                                        limit=45, step=1)"
   ]
  },
  {
   "cell_type": "code",
   "execution_count": null,
   "metadata": {},
   "outputs": [],
   "source": [
    "limit=45; start=10; step=1;\n",
    "x = range(start, limit, step)\n",
    "plt.plot(x, coherence_values_all)\n",
    "plt.xlabel(\"Количество тем\")\n",
    "plt.ylabel(\"Согласованность\")\n",
    "plt.legend((\"coherence_values_all\"), loc='best')\n",
    "# plt.suptitle(\"Качество модели LDA на общем корпусе\")\n",
    "plt.show()"
   ]
  },
  {
   "cell_type": "code",
   "execution_count": null,
   "metadata": {},
   "outputs": [],
   "source": [
    "lda_model_all = models.LdaModel(corpus=corpus_tfidf_all,\n",
    "                               id2word=dictionary_all,\n",
    "                               num_topics=30)\n",
    "\n",
    "coherence_model_lda = CoherenceModel(model=lda_model_all, texts=data_all, dictionary=dictionary_all, coherence='c_v')\n",
    "coherence_lda = coherence_model_lda.get_coherence()\n",
    "print('\\nCoherence Score: ', coherence_lda)"
   ]
  },
  {
   "cell_type": "code",
   "execution_count": null,
   "metadata": {},
   "outputs": [],
   "source": [
    "lda_model_all.print_topics(num_topics=-1, num_words=18)"
   ]
  },
  {
   "cell_type": "code",
   "execution_count": null,
   "metadata": {},
   "outputs": [],
   "source": [
    "my_dict_all_2 = {'Topic_' + str(i): [token for token, score in lda_model_all.show_topic(i, topn=15)] for i in range(0, lda_model_all.num_topics)}"
   ]
  },
  {
   "cell_type": "markdown",
   "metadata": {},
   "source": [
    "## Корпус объеденных документов\n"
   ]
  },
  {
   "cell_type": "markdown",
   "metadata": {},
   "source": [
    "### Ненормализорованные "
   ]
  },
  {
   "cell_type": "code",
   "execution_count": null,
   "metadata": {},
   "outputs": [],
   "source": [
    "nonnormalized = []\n",
    "for i in range(3211):\n",
    "    nonnormalized.append(data_en[i] + data_ru[i])\n",
    "    "
   ]
  },
  {
   "cell_type": "code",
   "execution_count": null,
   "metadata": {},
   "outputs": [],
   "source": [
    "len(nonnormalized)"
   ]
  },
  {
   "cell_type": "code",
   "execution_count": null,
   "metadata": {},
   "outputs": [],
   "source": [
    "# на этом этапе каждому слову дается уникальный цифровой номер\n",
    "dictionary_nonnorm = Dictionary(nonnormalized)\n",
    "\n",
    "# убираем солова, которые встречаются слишком редко (указывая минимальное число документов) \n",
    "# или слишком часто (указывая процент документов)\n",
    "dictionary_nonnorm.filter_extremes(no_below=15)\n",
    "\n",
    "# преобразуем документы в мешок слов\n",
    "corpus_nonnorm = [dictionary_nonnorm.doc2bow(doc) for doc in nonnormalized]\n",
    "\n",
    "tfidf_nonnorm = models.TfidfModel(corpus_nonnorm)\n",
    "corpus_tfidf_nonnorm = tfidf_nonnorm[corpus_nonnorm]\n",
    "\n",
    "print(f'Число уникальных токенов (dictionary_nonnorm): {len(dictionary_nonnorm)}')\n",
    "print(f'Число докуменов (corpora_nonnorm): {len(corpus_nonnorm)}')"
   ]
  },
  {
   "cell_type": "code",
   "execution_count": null,
   "metadata": {
    "scrolled": false
   },
   "outputs": [],
   "source": [
    "limit=25; start=5; step=1;\n",
    "x = range(start, limit, step)\n",
    "plt.plot(x, coherence_values_nonnorm)\n",
    "plt.xlabel(\"Количество тем\")\n",
    "plt.ylabel(\"Согласованность\")\n",
    "plt.legend((\"coherence_values_nonnorm\"), loc='best')\n",
    "# plt.suptitle(\"Качество модели LDA на общем корпусе\")\n",
    "plt.show()"
   ]
  },
  {
   "cell_type": "code",
   "execution_count": null,
   "metadata": {},
   "outputs": [],
   "source": [
    "lda_model_nn = models.LdaModel(corpus=corpus_tfidf_nonnorm,\n",
    "                               id2word=dictionary_nonnorm,\n",
    "                               num_topics=18)\n",
    "coherence_model_lda = CoherenceModel(model=lda_model_nn, texts=nonnormalized, dictionary=dictionary_nonnorm, coherence='c_v', \n",
    "                                    window_size=1000)\n",
    "coherence_lda = coherence_model_lda.get_coherence()\n",
    "print('\\nCoherence Score: ', coherence_lda)"
   ]
  },
  {
   "cell_type": "code",
   "execution_count": null,
   "metadata": {},
   "outputs": [],
   "source": [
    "my_dict_nn = {'Topic_' + str(i): [token for token, score in lda_model_nn.show_topic(i, topn=15)] for i in range(0, lda_model_nn.num_topics)}"
   ]
  },
  {
   "cell_type": "code",
   "execution_count": null,
   "metadata": {},
   "outputs": [],
   "source": [
    "my_dict_nn"
   ]
  },
  {
   "cell_type": "markdown",
   "metadata": {},
   "source": [
    "### Нормализованные длины"
   ]
  },
  {
   "cell_type": "code",
   "execution_count": null,
   "metadata": {},
   "outputs": [],
   "source": [
    "import random \n",
    "normalized = []\n",
    "for i in range(3211):\n",
    "    random.shuffle(data_en[i])\n",
    "    random.shuffle(data_ru[i])\n",
    "    normalized.append(data_en[i][:150] + data_ru[i][:150])"
   ]
  },
  {
   "cell_type": "code",
   "execution_count": null,
   "metadata": {},
   "outputs": [],
   "source": [
    "dictionary_norm = Dictionary(normalized)\n",
    "\n",
    "# убираем солова, которые встречаются слишком редко (указывая минимальное число документов) \n",
    "# или слишком часто (указывая процент документов)\n",
    "dictionary_norm.filter_extremes(no_below=15)\n",
    "\n",
    "# преобразуем документы в мешок слов\n",
    "corpus_norm = [dictionary_norm.doc2bow(doc) for doc in normalized]\n",
    "\n",
    "tfidf_norm = models.TfidfModel(corpus_norm)\n",
    "corpus_tfidf_norm = tfidf_norm[corpus_norm]\n",
    "\n",
    "print(f'Число уникальных токенов (dictionary_norm): {len(dictionary_norm)}')\n",
    "print(f'Число докуменов (corpora_norm): {len(corpus_norm)}')"
   ]
  },
  {
   "cell_type": "code",
   "execution_count": null,
   "metadata": {},
   "outputs": [],
   "source": [
    "model_list_norm, coherence_values_norm = compute_coherence_values(dictionary=dictionary_norm, corpus=corpus_tfidf_norm, texts=normalized, start=5, \\\n",
    "                                                        limit=25, step=1)"
   ]
  },
  {
   "cell_type": "code",
   "execution_count": null,
   "metadata": {
    "scrolled": true
   },
   "outputs": [],
   "source": [
    "limit=22; start=5; step=1;\n",
    "x = range(start, limit, step)\n",
    "plt.plot(x, coherence_values_norm[3:])\n",
    "plt.xlabel(\"Количество тем\")\n",
    "plt.ylabel(\"Согласованность\")\n",
    "plt.legend((\"coherence_values_norm\"), loc='best')\n",
    "# plt.suptitle(\"Качество модели LDA на общем корпусе\")\n",
    "plt.show()"
   ]
  }
 ],
 "metadata": {
  "kernelspec": {
   "display_name": "Python 3",
   "language": "python",
   "name": "python3"
  },
  "language_info": {
   "codemirror_mode": {
    "name": "ipython",
    "version": 3
   },
   "file_extension": ".py",
   "mimetype": "text/x-python",
   "name": "python",
   "nbconvert_exporter": "python",
   "pygments_lexer": "ipython3",
   "version": "3.7.4"
  }
 },
 "nbformat": 4,
 "nbformat_minor": 4
}
